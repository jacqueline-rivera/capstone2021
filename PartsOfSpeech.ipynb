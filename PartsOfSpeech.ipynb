{
 "cells": [
  {
   "cell_type": "code",
   "execution_count": 1,
   "id": "364ec772",
   "metadata": {},
   "outputs": [],
   "source": [
    "import pandas as pd\n",
    "import nltk"
   ]
  },
  {
   "cell_type": "code",
   "execution_count": 2,
   "id": "662d1b5e",
   "metadata": {},
   "outputs": [],
   "source": [
    "opiates = pd.read_csv('SubredditDatasets/opiates_cleaned.csv', parse_dates=['date'])\n",
    "recovery = pd.read_csv('SubredditDatasets/recovery_cleaned.csv', parse_dates=['date'])"
   ]
  },
  {
   "cell_type": "code",
   "execution_count": 3,
   "id": "f03fa5ed",
   "metadata": {},
   "outputs": [],
   "source": [
    "parts_of_speech = {'adjectives': ['JJ', 'JJR', 'JJS0'], \n",
    "                   'nouns': ['NN', 'NNS'], \n",
    "                   'verbs': ['VB', 'VBG', 'VBD', 'VBN', 'VBP', 'VBZ']}"
   ]
  },
  {
   "cell_type": "code",
   "execution_count": 4,
   "id": "1051ab02",
   "metadata": {},
   "outputs": [],
   "source": [
    "# create opiates parts of speech columns\n",
    "for key, values in parts_of_speech.items():\n",
    "    pos_list = []\n",
    "    for i in range(len(opiates['cleaned_text'])):\n",
    "        words = nltk.word_tokenize(opiates['cleaned_text'][i])\n",
    "        pos = [k for k,v in nltk.pos_tag(words) if v in values]\n",
    "        pos_list.append(\" \".join(pos))\n",
    "    opiates[key] = pos_list"
   ]
  },
  {
   "cell_type": "code",
   "execution_count": 5,
   "id": "a47ed519",
   "metadata": {},
   "outputs": [],
   "source": [
    "# create recovery parts of speech columns \n",
    "for key, values in parts_of_speech.items():\n",
    "    pos_list = []\n",
    "    for i in range(len(recovery['cleaned_text'])):\n",
    "        words = nltk.word_tokenize(recovery['cleaned_text'][i])\n",
    "        pos = [k for k,v in nltk.pos_tag(words) if v in values]\n",
    "        pos_list.append(\" \".join(pos))\n",
    "    recovery[key] = pos_list"
   ]
  },
  {
   "cell_type": "code",
   "execution_count": 6,
   "id": "e44249bc",
   "metadata": {},
   "outputs": [],
   "source": [
    "opiates.to_csv(\"SubredditDatasets/opiates_pos.csv\", index=False)\n",
    "recovery.to_csv(\"SubredditDatasets/recovery_pos.csv\", index=False)"
   ]
  },
  {
   "cell_type": "code",
   "execution_count": null,
   "id": "cc47d27a",
   "metadata": {},
   "outputs": [],
   "source": []
  }
 ],
 "metadata": {
  "kernelspec": {
   "display_name": "Python 3",
   "language": "python",
   "name": "python3"
  },
  "language_info": {
   "codemirror_mode": {
    "name": "ipython",
    "version": 3
   },
   "file_extension": ".py",
   "mimetype": "text/x-python",
   "name": "python",
   "nbconvert_exporter": "python",
   "pygments_lexer": "ipython3",
   "version": "3.8.8"
  }
 },
 "nbformat": 4,
 "nbformat_minor": 5
}
