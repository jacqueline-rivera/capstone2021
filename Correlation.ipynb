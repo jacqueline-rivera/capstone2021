{
 "cells": [
  {
   "cell_type": "code",
   "execution_count": 1,
   "id": "958036bb",
   "metadata": {},
   "outputs": [],
   "source": [
    "import pandas as pd"
   ]
  },
  {
   "cell_type": "code",
   "execution_count": 2,
   "id": "476738ad",
   "metadata": {},
   "outputs": [],
   "source": [
    "opiates = pd.read_csv(\"SubredditDatasets/opiates_pos.csv\")\n",
    "recovery = pd.read_csv(\"SubredditDatasets/recovery_pos.csv\")"
   ]
  },
  {
   "cell_type": "code",
   "execution_count": 3,
   "id": "d038f573",
   "metadata": {},
   "outputs": [],
   "source": [
    "def correlations(df, l):\n",
    "    # create list of all tokens\n",
    "    all_words = \" \".join(l.dropna())\n",
    "    all_words = pd.DataFrame(all_words.split(), columns=['tokens'])\n",
    "    \n",
    "    # identify unique tokens and sort by number of appearances\n",
    "    all_words = all_words.groupby('tokens').size().reset_index(name='counts').sort_values('counts', ascending=False)\n",
    "    all_words = all_words.reset_index(drop=True)\n",
    "    \n",
    "    top_tokens = list(all_words['tokens'][:250])\n",
    "    \n",
    "    # create a dictionary that holds how many times popular tokens appear in each post\n",
    "    word_count_per_post = {}\n",
    "    for token in top_tokens:\n",
    "        token_word_count = []\n",
    "        for i in range(len(df['tokens'])):\n",
    "            token_word_count.append(df['tokens'][i].count(token))\n",
    "        word_count_per_post[token] = token_word_count\n",
    "    \n",
    "    word_count_per_post = pd.DataFrame.from_dict(word_count_per_post)\n",
    "    \n",
    "    # calculate correlation coefficients for word pairs\n",
    "    pearson = word_count_per_post.corr(method='pearson')\n",
    "    spearman = word_count_per_post.corr(method='spearman')\n",
    "    \n",
    "    return pearson, spearman"
   ]
  },
  {
   "cell_type": "code",
   "execution_count": 4,
   "id": "97c1621a",
   "metadata": {},
   "outputs": [],
   "source": [
    "opiates_pearson, opiates_spearman = correlations(opiates, opiates['cleaned_text'])"
   ]
  },
  {
   "cell_type": "code",
   "execution_count": 5,
   "id": "efac01f8",
   "metadata": {},
   "outputs": [],
   "source": [
    "opiates_pearson.to_csv(\"Correlations/opiates_pearson.csv\")\n",
    "opiates_spearman.to_csv(\"Correlations/opiates_spearman.csv\")"
   ]
  },
  {
   "cell_type": "code",
   "execution_count": 6,
   "id": "b32b5dfc",
   "metadata": {},
   "outputs": [],
   "source": [
    "opiates_adj_pearson, opiates_adj_spearman = correlations(opiates, opiates['adjectives'])"
   ]
  },
  {
   "cell_type": "code",
   "execution_count": 7,
   "id": "5e6ebb45",
   "metadata": {},
   "outputs": [],
   "source": [
    "opiates_adj_pearson.to_csv(\"Correlations/opiates_adj_pearson.csv\")\n",
    "opiates_adj_spearman.to_csv(\"Correlations/opiates_adj_spearman.csv\")"
   ]
  },
  {
   "cell_type": "code",
   "execution_count": 8,
   "id": "23de49dc",
   "metadata": {},
   "outputs": [],
   "source": [
    "opiates_nouns_pearson, opiates_nouns_spearman = correlations(opiates, opiates['nouns'])"
   ]
  },
  {
   "cell_type": "code",
   "execution_count": 9,
   "id": "1e0c7f76",
   "metadata": {},
   "outputs": [],
   "source": [
    "opiates_nouns_pearson.to_csv(\"Correlations/opiates_nouns_pearson.csv\")\n",
    "opiates_nouns_spearman.to_csv(\"Correlations/opiates_nouns_spearman.csv\")"
   ]
  },
  {
   "cell_type": "code",
   "execution_count": 10,
   "id": "28023f19",
   "metadata": {},
   "outputs": [],
   "source": [
    "opiates_verbs_pearson, opiates_verbs_spearman = correlations(opiates, opiates['verbs'])"
   ]
  },
  {
   "cell_type": "code",
   "execution_count": 11,
   "id": "aac1a565",
   "metadata": {},
   "outputs": [],
   "source": [
    "opiates_verbs_pearson.to_csv(\"Correlations/opiates_verbs_pearson.csv\")\n",
    "opiates_verbs_spearman.to_csv(\"Correlations/opiates_verbs_spearman.csv\")"
   ]
  },
  {
   "cell_type": "code",
   "execution_count": 12,
   "id": "bc5c3f63",
   "metadata": {},
   "outputs": [],
   "source": [
    "recovery_pearson, recovery_spearman = correlations(recovery, recovery['cleaned_text'])"
   ]
  },
  {
   "cell_type": "code",
   "execution_count": 13,
   "id": "85ec0b9b",
   "metadata": {},
   "outputs": [],
   "source": [
    "recovery_pearson.to_csv(\"Correlations/recovery_pearson.csv\")\n",
    "recovery_spearman.to_csv(\"Correlations/recovery_spearman.csv\")"
   ]
  },
  {
   "cell_type": "code",
   "execution_count": 14,
   "id": "2faefb0d",
   "metadata": {},
   "outputs": [],
   "source": [
    "recovery_adj_pearson, recovery_adj_spearman = correlations(recovery, recovery['adjectives'])"
   ]
  },
  {
   "cell_type": "code",
   "execution_count": 15,
   "id": "ed3e68bd",
   "metadata": {},
   "outputs": [],
   "source": [
    "recovery_adj_pearson.to_csv(\"Correlations/recovery_adj_pearson.csv\")\n",
    "recovery_adj_spearman.to_csv(\"Correlations/recovery_adj_spearman.csv\")"
   ]
  },
  {
   "cell_type": "code",
   "execution_count": 16,
   "id": "c9a0ab1b",
   "metadata": {},
   "outputs": [],
   "source": [
    "recovery_nouns_pearson, recovery_nouns_spearman = correlations(recovery, recovery['nouns'])"
   ]
  },
  {
   "cell_type": "code",
   "execution_count": 17,
   "id": "e0584fc7",
   "metadata": {},
   "outputs": [],
   "source": [
    "recovery_nouns_pearson.to_csv(\"Correlations/recovery_nouns_pearson.csv\")\n",
    "recovery_nouns_spearman.to_csv(\"Correlations/recovery_nouns_spearman.csv\")"
   ]
  },
  {
   "cell_type": "code",
   "execution_count": 18,
   "id": "d9006049",
   "metadata": {},
   "outputs": [],
   "source": [
    "recovery_verbs_pearson, recovery_verbs_spearman = correlations(recovery, recovery['verbs'])"
   ]
  },
  {
   "cell_type": "code",
   "execution_count": 19,
   "id": "b6b33bff",
   "metadata": {},
   "outputs": [],
   "source": [
    "recovery_verbs_pearson.to_csv(\"Correlations/recovery_verbs_pearson.csv\")\n",
    "recovery_verbs_spearman.to_csv(\"Correlations/recovery_verbs_spearman.csv\")"
   ]
  },
  {
   "cell_type": "code",
   "execution_count": null,
   "id": "4258a6d6",
   "metadata": {},
   "outputs": [],
   "source": []
  }
 ],
 "metadata": {
  "kernelspec": {
   "display_name": "Python 3",
   "language": "python",
   "name": "python3"
  },
  "language_info": {
   "codemirror_mode": {
    "name": "ipython",
    "version": 3
   },
   "file_extension": ".py",
   "mimetype": "text/x-python",
   "name": "python",
   "nbconvert_exporter": "python",
   "pygments_lexer": "ipython3",
   "version": "3.8.8"
  }
 },
 "nbformat": 4,
 "nbformat_minor": 5
}
