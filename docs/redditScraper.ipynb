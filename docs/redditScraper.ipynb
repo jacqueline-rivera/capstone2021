{
 "cells": [
  {
   "cell_type": "markdown",
   "metadata": {},
   "source": [
    "# PUSHSHIFT"
   ]
  },
  {
   "cell_type": "code",
   "execution_count": 1,
   "metadata": {},
   "outputs": [],
   "source": [
    "import pandas as pd\n",
    "import requests\n",
    "import json\n",
    "import csv\n",
    "import time\n",
    "import datetime"
   ]
  },
  {
   "cell_type": "code",
   "execution_count": 2,
   "metadata": {},
   "outputs": [],
   "source": [
    "def getPushshiftData(after, before, sub):\n",
    "    url = 'https://api.pushshift.io/reddit/search/submission/?&size=1000&after=' \\\n",
    "          + str(after) + '&before=' + str(before) + '&subreddit=' + str(sub)\n",
    "    print(url)\n",
    "    r = requests.get(url)\n",
    "    data = json.loads(r.text)\n",
    "    return data['data']"
   ]
  },
  {
   "cell_type": "code",
   "execution_count": 3,
   "metadata": {},
   "outputs": [],
   "source": [
    "def collectSubData(subm):\n",
    "    subData = list()\n",
    "\n",
    "    title = subm['title']\n",
    "    url = subm['url']\n",
    "    try:\n",
    "        flair = subm['link_flair_text']\n",
    "    except KeyError:\n",
    "        flair = \"NaN\"\n",
    "    author = subm['author']\n",
    "    sub_id = subm['id']\n",
    "    score = subm['score']\n",
    "    created = datetime.datetime.fromtimestamp(subm['created_utc'])\n",
    "    numComms = subm['num_comments']\n",
    "    permalink = subm['permalink']\n",
    "\n",
    "    subData.append((sub_id, title, url, author, score, created, numComms, permalink, flair))\n",
    "    subStats[sub_id] = subData"
   ]
  },
  {
   "cell_type": "code",
   "execution_count": 4,
   "metadata": {},
   "outputs": [],
   "source": [
    "# Subreddit to query\n",
    "sub = 'opiates'\n",
    "before = 1622520000  # later date\n",
    "after = 1619841600  # earlier date\n",
    "subCount = 0\n",
    "subStats = {}"
   ]
  },
  {
   "cell_type": "code",
   "execution_count": 5,
   "metadata": {},
   "outputs": [
    {
     "name": "stdout",
     "output_type": "stream",
     "text": [
      "https://api.pushshift.io/reddit/search/submission/?&size=1000&after=1619841600&before=1622520000&subreddit=opiates\n",
      "https://api.pushshift.io/reddit/search/submission/?&size=1000&after=1620007243&before=1622520000&subreddit=opiates\n",
      "https://api.pushshift.io/reddit/search/submission/?&size=1000&after=1620143629&before=1622520000&subreddit=opiates\n",
      "https://api.pushshift.io/reddit/search/submission/?&size=1000&after=1620265955&before=1622520000&subreddit=opiates\n",
      "https://api.pushshift.io/reddit/search/submission/?&size=1000&after=1620393878&before=1622520000&subreddit=opiates\n",
      "https://api.pushshift.io/reddit/search/submission/?&size=1000&after=1620507323&before=1622520000&subreddit=opiates\n",
      "https://api.pushshift.io/reddit/search/submission/?&size=1000&after=1620622568&before=1622520000&subreddit=opiates\n",
      "https://api.pushshift.io/reddit/search/submission/?&size=1000&after=1620765629&before=1622520000&subreddit=opiates\n",
      "https://api.pushshift.io/reddit/search/submission/?&size=1000&after=1620867010&before=1622520000&subreddit=opiates\n",
      "https://api.pushshift.io/reddit/search/submission/?&size=1000&after=1621029373&before=1622520000&subreddit=opiates\n",
      "https://api.pushshift.io/reddit/search/submission/?&size=1000&after=1621182961&before=1622520000&subreddit=opiates\n",
      "https://api.pushshift.io/reddit/search/submission/?&size=1000&after=1621300772&before=1622520000&subreddit=opiates\n",
      "https://api.pushshift.io/reddit/search/submission/?&size=1000&after=1621423254&before=1622520000&subreddit=opiates\n",
      "https://api.pushshift.io/reddit/search/submission/?&size=1000&after=1621549110&before=1622520000&subreddit=opiates\n",
      "https://api.pushshift.io/reddit/search/submission/?&size=1000&after=1621688622&before=1622520000&subreddit=opiates\n",
      "https://api.pushshift.io/reddit/search/submission/?&size=1000&after=1621791104&before=1622520000&subreddit=opiates\n",
      "https://api.pushshift.io/reddit/search/submission/?&size=1000&after=1621915979&before=1622520000&subreddit=opiates\n",
      "https://api.pushshift.io/reddit/search/submission/?&size=1000&after=1622069402&before=1622520000&subreddit=opiates\n",
      "https://api.pushshift.io/reddit/search/submission/?&size=1000&after=1622213035&before=1622520000&subreddit=opiates\n",
      "https://api.pushshift.io/reddit/search/submission/?&size=1000&after=1622323445&before=1622520000&subreddit=opiates\n",
      "https://api.pushshift.io/reddit/search/submission/?&size=1000&after=1622444406&before=1622520000&subreddit=opiates\n",
      "https://api.pushshift.io/reddit/search/submission/?&size=1000&after=1622519919&before=1622520000&subreddit=opiates\n"
     ]
    }
   ],
   "source": [
    "data = getPushshiftData(after, before, sub)\n",
    "\n",
    "while len(data) > 0:\n",
    "    for submission in data:\n",
    "        collectSubData(submission)\n",
    "        subCount+=1\n",
    "    # print(len(data))\n",
    "    # print(str(datetime.datetime.fromtimestamp(data[-1]['created_utc'])))\n",
    "    after = data[-1]['created_utc']\n",
    "    data = getPushshiftData(after, before, sub)\n",
    "\n",
    "# print(len(data))\n",
    "# print(str(len(subStats)) + \" submissions\")"
   ]
  },
  {
   "cell_type": "code",
   "execution_count": 6,
   "metadata": {},
   "outputs": [
    {
     "name": "stdout",
     "output_type": "stream",
     "text": [
      "pushshift\n",
      "2076 submissions have been uploaded\n"
     ]
    }
   ],
   "source": [
    "def updateSubs_file():\n",
    "    upload_count = 0\n",
    "    filename = input()\n",
    "    file = filename\n",
    "    with open(file, 'w', newline='', encoding='utf-8') as file:\n",
    "        a = csv.writer(file, delimiter=',')\n",
    "        headers = [\"Post ID\", \"Title\", \"Url\", \"Author\", \"Score\",\n",
    "                   \"Publish Date\", \"No. of Comments\", \"Permalink\", \"Flair\"]\n",
    "        a.writerow(headers)\n",
    "        for sub in subStats:\n",
    "            a.writerow(subStats[sub][0])\n",
    "            upload_count+=1\n",
    "\n",
    "        print(str(upload_count)+\" submissions have been uploaded\")\n",
    "        \n",
    "updateSubs_file()"
   ]
  },
  {
   "cell_type": "markdown",
   "metadata": {},
   "source": [
    "# PRAW"
   ]
  },
  {
   "cell_type": "code",
   "execution_count": 7,
   "metadata": {},
   "outputs": [],
   "source": [
    "import praw\n",
    "from praw.models import MoreComments\n",
    "import pandas as pd\n",
    "import csv"
   ]
  },
  {
   "cell_type": "code",
   "execution_count": 8,
   "metadata": {},
   "outputs": [
    {
     "data": {
      "text/plain": [
       "2076"
      ]
     },
     "execution_count": 8,
     "metadata": {},
     "output_type": "execute_result"
    }
   ],
   "source": [
    "pushshift = pd.read_csv('pushshift')\n",
    "pushshift = pushshift.reset_index()\n",
    "len(pushshift['Post ID'])"
   ]
  },
  {
   "cell_type": "code",
   "execution_count": 10,
   "metadata": {},
   "outputs": [],
   "source": [
    "reddit = praw.Reddit(client_id='uwd2yu4XRqn2hg', \n",
    "                     client_secret='8Xp3w6by0qpSAvx7wspls1XbYrcQGQ', \n",
    "                     user_agent='Capstone')\n",
    "\n",
    "posts = []\n",
    "\n",
    "for i in range(len(pushshift['Post ID'])):\n",
    "    post = reddit.submission(id=pushshift['Post ID'][i])\n",
    "    if (post.selftext=='[deleted]') | (post.selftext=='[removed]'):\n",
    "        continue\n",
    "    posts.append([post.title, post.author, post.score, post.id, post.subreddit,\n",
    "                  post.url, post.num_comments, post.selftext, post.created])"
   ]
  },
  {
   "cell_type": "code",
   "execution_count": 11,
   "metadata": {},
   "outputs": [],
   "source": [
    "posts = pd.DataFrame(posts, columns=['title', 'name', 'score', 'id', 'subreddit',\n",
    "                                     'url', 'num_comments', 'body', 'created'])"
   ]
  },
  {
   "cell_type": "code",
   "execution_count": null,
   "metadata": {},
   "outputs": [],
   "source": []
  }
 ],
 "metadata": {
  "kernelspec": {
   "display_name": "Python 3",
   "language": "python",
   "name": "python3"
  },
  "language_info": {
   "codemirror_mode": {
    "name": "ipython",
    "version": 3
   },
   "file_extension": ".py",
   "mimetype": "text/x-python",
   "name": "python",
   "nbconvert_exporter": "python",
   "pygments_lexer": "ipython3",
   "version": "3.8.8"
  }
 },
 "nbformat": 4,
 "nbformat_minor": 4
}
